{
  "nbformat": 4,
  "nbformat_minor": 0,
  "metadata": {
    "colab": {
      "name": "TuriCreate_ImageClassifier.ipynb",
      "version": "0.3.2",
      "provenance": [],
      "collapsed_sections": [],
      "include_colab_link": true
    },
    "kernelspec": {
      "name": "python3",
      "display_name": "Python 3"
    },
    "accelerator": "GPU"
  },
  "cells": [
    {
      "cell_type": "markdown",
      "metadata": {
        "id": "view-in-github",
        "colab_type": "text"
      },
      "source": [
        "[View in Colaboratory](https://colab.research.google.com/github/tattn/TuriCreatePlayground/blob/master/TuriCreate_ImageClassifier.ipynb)"
      ]
    },
    {
      "metadata": {
        "id": "bDd6EpF7Sivb",
        "colab_type": "code",
        "colab": {
          "base_uri": "https://localhost:8080/",
          "height": 357
        },
        "outputId": "fe90be29-34ef-4ecf-c237-65d3aaa2322f"
      },
      "cell_type": "code",
      "source": [
        "!pip install turicreate"
      ],
      "execution_count": 2,
      "outputs": [
        {
          "output_type": "stream",
          "text": [
            "Requirement already satisfied: turicreate in /usr/local/lib/python3.6/dist-packages (5.0b1)\r\n",
            "Requirement already satisfied: pillow>=3.3.0 in /usr/local/lib/python3.6/dist-packages (from turicreate) (4.0.0)\r\n",
            "Requirement already satisfied: decorator>=4.0.9 in /usr/local/lib/python3.6/dist-packages (from turicreate) (4.3.0)\r\n",
            "Requirement already satisfied: prettytable==0.7.2 in /usr/local/lib/python3.6/dist-packages (from turicreate) (0.7.2)\r\n",
            "Requirement already satisfied: requests>=2.9.1 in /usr/local/lib/python3.6/dist-packages (from turicreate) (2.18.4)\n",
            "Requirement already satisfied: pandas>=0.19.0 in /usr/local/lib/python3.6/dist-packages (from turicreate) (0.22.0)\n",
            "Requirement already satisfied: coremltools==2.0b1 in /usr/local/lib/python3.6/dist-packages (from turicreate) (2.0b1)\n",
            "Requirement already satisfied: numpy in /usr/local/lib/python3.6/dist-packages (from turicreate) (1.14.5)\n",
            "Requirement already satisfied: mxnet<1.2.0,>=1.1.0 in /usr/local/lib/python3.6/dist-packages (from turicreate) (1.1.0.post0)\n",
            "Requirement already satisfied: olefile in /usr/local/lib/python3.6/dist-packages (from pillow>=3.3.0->turicreate) (0.45.1)\n",
            "Requirement already satisfied: idna<2.7,>=2.5 in /usr/local/lib/python3.6/dist-packages (from requests>=2.9.1->turicreate) (2.6)\n",
            "Requirement already satisfied: chardet<3.1.0,>=3.0.2 in /usr/local/lib/python3.6/dist-packages (from requests>=2.9.1->turicreate) (3.0.4)\n",
            "Requirement already satisfied: urllib3<1.23,>=1.21.1 in /usr/local/lib/python3.6/dist-packages (from requests>=2.9.1->turicreate) (1.22)\n",
            "Requirement already satisfied: certifi>=2017.4.17 in /usr/local/lib/python3.6/dist-packages (from requests>=2.9.1->turicreate) (2018.4.16)\n",
            "Requirement already satisfied: pytz>=2011k in /usr/local/lib/python3.6/dist-packages (from pandas>=0.19.0->turicreate) (2018.4)\n",
            "Requirement already satisfied: python-dateutil>=2 in /usr/local/lib/python3.6/dist-packages (from pandas>=0.19.0->turicreate) (2.5.3)\n",
            "Requirement already satisfied: six==1.10.0 in /usr/local/lib/python3.6/dist-packages (from coremltools==2.0b1->turicreate) (1.10.0)\n",
            "Requirement already satisfied: protobuf>=3.1.0 in /usr/local/lib/python3.6/dist-packages (from coremltools==2.0b1->turicreate) (3.6.0)\n",
            "Requirement already satisfied: graphviz<0.9.0,>=0.8.1 in /usr/local/lib/python3.6/dist-packages (from mxnet<1.2.0,>=1.1.0->turicreate) (0.8.3)\n",
            "Requirement already satisfied: setuptools in /usr/local/lib/python3.6/dist-packages (from protobuf>=3.1.0->coremltools==2.0b1->turicreate) (39.1.0)\n"
          ],
          "name": "stdout"
        }
      ]
    },
    {
      "metadata": {
        "id": "P5OA3bJRUNA0",
        "colab_type": "text"
      },
      "cell_type": "markdown",
      "source": [
        "# Google Driveのマウント"
      ]
    },
    {
      "metadata": {
        "id": "vo26yR4nURsq",
        "colab_type": "code",
        "colab": {
          "base_uri": "https://localhost:8080/",
          "height": 136
        },
        "outputId": "35dbe43e-b024-47a0-afa6-4331b1c2c537"
      },
      "cell_type": "code",
      "source": [
        "# https://qiita.com/uni-3/items/201aaa2708260cc790b8\n",
        "!apt-get install -y -qq software-properties-common python-software-properties module-init-tools\n",
        "!add-apt-repository -y ppa:alessandro-strada/ppa 2>&1 > /dev/null\n",
        "!apt-get update -qq 2>&1 > /dev/null\n",
        "!apt-get -y install -qq google-drive-ocamlfuse fuse\n",
        "from google.colab import auth\n",
        "auth.authenticate_user()\n",
        "from oauth2client.client import GoogleCredentials\n",
        "creds = GoogleCredentials.get_application_default()\n",
        "import getpass\n",
        "!google-drive-ocamlfuse -headless -id={creds.client_id} -secret={creds.client_secret} < /dev/null 2>&1 | grep URL\n",
        "vcode = getpass.getpass()\n",
        "!echo {vcode} | google-drive-ocamlfuse -headless -id={creds.client_id} -secret={creds.client_secret}"
      ],
      "execution_count": 3,
      "outputs": [
        {
          "output_type": "stream",
          "text": [
            "gpg: keybox '/tmp/tmpqcxyqcrf/pubring.gpg' created\n",
            "gpg: /tmp/tmpqcxyqcrf/trustdb.gpg: trustdb created\n",
            "gpg: key AD5F235DF639B041: public key \"Launchpad PPA for Alessandro Strada\" imported\n",
            "gpg: Total number processed: 1\n",
            "gpg:               imported: 1\n",
            "Warning: apt-key output should not be parsed (stdout is not a terminal)\n",
            "··········\n"
          ],
          "name": "stdout"
        }
      ]
    },
    {
      "metadata": {
        "id": "b2ZBMfuvUiad",
        "colab_type": "code",
        "colab": {
          "base_uri": "https://localhost:8080/",
          "height": 68
        },
        "outputId": "1c666bd5-b698-4bba-c2ce-b4124c9f0e27"
      },
      "cell_type": "code",
      "source": [
        "!mkdir -p drive\n",
        "!google-drive-ocamlfuse drive\n",
        "!mkdir -p drive/colab/ImageClassifier/training_data # 学習用のデータを配置するディレクトリの作成\n",
        "!ls drive/colab/ImageClassifier/training_data"
      ],
      "execution_count": 4,
      "outputs": [
        {
          "output_type": "stream",
          "text": [
            "fuse: mountpoint is not empty\r\n",
            "fuse: if you are sure this is safe, use the 'nonempty' mount option\n",
            "kinoko_no_yama\ttakenoko_no_sato\n"
          ],
          "name": "stdout"
        }
      ]
    },
    {
      "metadata": {
        "id": "LVGjFRgGoyyR",
        "colab_type": "text"
      },
      "cell_type": "markdown",
      "source": [
        "# Turi Createでの画像分類"
      ]
    },
    {
      "metadata": {
        "id": "XN0bZDNAUzmb",
        "colab_type": "code",
        "colab": {
          "base_uri": "https://localhost:8080/",
          "height": 663
        },
        "outputId": "6f3ce6e2-5366-43e5-affa-f02c6341b0da"
      },
      "cell_type": "code",
      "source": [
        "import turicreate as tc\n",
        "\n",
        "# アノテーション\n",
        "# data = tc.image_analysis.load_images('drive/colab/ImageClassifier/training_data', with_path=True)\n",
        "# data['label'] = data['path'].apply(lambda path: 'kinoko_no_yama' if '/kinoko_no_yama' in path else 'takenoko_no_sato')\n",
        "# data.save('training_data.sframe')\n",
        "# data.explore()\n",
        "\n",
        "# アノテーション済みのデータ読み込み\n",
        "data =  tc.SFrame('drive/colab/ImageClassifier/training_data.sframe')\n",
        "train_data, test_data = data.random_split(0.8)\n",
        "model = tc.image_classifier.create(train_data, target='label')\n",
        "\n",
        "# 評価\n",
        "metrics = model.evaluate(test_data)\n",
        "print(metrics['accuracy'])\n",
        "\n",
        "# モデルの保存\n",
        "# model.save('mymodel.model')\n",
        "\n",
        "# mlmodelの書き出し\n",
        "model.export_coreml('KinokonoyamaTakenokonosatoClassifier.mlmodel')\n",
        "\n",
        "\n"
      ],
      "execution_count": 6,
      "outputs": [
        {
          "output_type": "stream",
          "text": [
            "Downloading https://docs-assets.developer.apple.com/turicreate/models/resnet-50-symbol.json\n",
            "Download completed: /var/tmp/model_cache/resnet-50-symbol.json\n",
            "Downloading https://docs-assets.developer.apple.com/turicreate/models/resnet-50-0000.params\n",
            "Download completed: /var/tmp/model_cache/resnet-50-0000.params\n",
            "Performing feature extraction on resized images...\n",
            "Completed  64/157\n",
            "Completed 128/157\n",
            "Completed 157/157\n",
            "PROGRESS: Creating a validation set from 5 percent of training data. This may take a while.\n",
            "          You can set ``validation_set=None`` to disable validation tracking.\n",
            "\n"
          ],
          "name": "stdout"
        },
        {
          "output_type": "display_data",
          "data": {
            "text/html": [
              "<pre>Logistic regression:</pre>"
            ],
            "text/plain": [
              "Logistic regression:"
            ]
          },
          "metadata": {
            "tags": []
          }
        },
        {
          "output_type": "display_data",
          "data": {
            "text/html": [
              "<pre>--------------------------------------------------------</pre>"
            ],
            "text/plain": [
              "--------------------------------------------------------"
            ]
          },
          "metadata": {
            "tags": []
          }
        },
        {
          "output_type": "display_data",
          "data": {
            "text/html": [
              "<pre>Number of examples          : 149</pre>"
            ],
            "text/plain": [
              "Number of examples          : 149"
            ]
          },
          "metadata": {
            "tags": []
          }
        },
        {
          "output_type": "display_data",
          "data": {
            "text/html": [
              "<pre>Number of classes           : 2</pre>"
            ],
            "text/plain": [
              "Number of classes           : 2"
            ]
          },
          "metadata": {
            "tags": []
          }
        },
        {
          "output_type": "display_data",
          "data": {
            "text/html": [
              "<pre>Number of feature columns   : 1</pre>"
            ],
            "text/plain": [
              "Number of feature columns   : 1"
            ]
          },
          "metadata": {
            "tags": []
          }
        },
        {
          "output_type": "display_data",
          "data": {
            "text/html": [
              "<pre>Number of unpacked features : 2048</pre>"
            ],
            "text/plain": [
              "Number of unpacked features : 2048"
            ]
          },
          "metadata": {
            "tags": []
          }
        },
        {
          "output_type": "display_data",
          "data": {
            "text/html": [
              "<pre>Number of coefficients      : 2049</pre>"
            ],
            "text/plain": [
              "Number of coefficients      : 2049"
            ]
          },
          "metadata": {
            "tags": []
          }
        },
        {
          "output_type": "display_data",
          "data": {
            "text/html": [
              "<pre>Starting L-BFGS</pre>"
            ],
            "text/plain": [
              "Starting L-BFGS"
            ]
          },
          "metadata": {
            "tags": []
          }
        },
        {
          "output_type": "display_data",
          "data": {
            "text/html": [
              "<pre>--------------------------------------------------------</pre>"
            ],
            "text/plain": [
              "--------------------------------------------------------"
            ]
          },
          "metadata": {
            "tags": []
          }
        },
        {
          "output_type": "display_data",
          "data": {
            "text/html": [
              "<pre>+-----------+----------+-----------+--------------+-------------------+---------------------+</pre>"
            ],
            "text/plain": [
              "+-----------+----------+-----------+--------------+-------------------+---------------------+"
            ]
          },
          "metadata": {
            "tags": []
          }
        },
        {
          "output_type": "display_data",
          "data": {
            "text/html": [
              "<pre>| Iteration | Passes   | Step size | Elapsed Time | Training-accuracy | Validation-accuracy |</pre>"
            ],
            "text/plain": [
              "| Iteration | Passes   | Step size | Elapsed Time | Training-accuracy | Validation-accuracy |"
            ]
          },
          "metadata": {
            "tags": []
          }
        },
        {
          "output_type": "display_data",
          "data": {
            "text/html": [
              "<pre>+-----------+----------+-----------+--------------+-------------------+---------------------+</pre>"
            ],
            "text/plain": [
              "+-----------+----------+-----------+--------------+-------------------+---------------------+"
            ]
          },
          "metadata": {
            "tags": []
          }
        },
        {
          "output_type": "display_data",
          "data": {
            "text/html": [
              "<pre>| 1         | 6        | 0.000241  | 1.056629     | 0.557047          | 0.500000            |</pre>"
            ],
            "text/plain": [
              "| 1         | 6        | 0.000241  | 1.056629     | 0.557047          | 0.500000            |"
            ]
          },
          "metadata": {
            "tags": []
          }
        },
        {
          "output_type": "display_data",
          "data": {
            "text/html": [
              "<pre>| 2         | 9        | 5.000000  | 1.089386     | 0.785235          | 0.625000            |</pre>"
            ],
            "text/plain": [
              "| 2         | 9        | 5.000000  | 1.089386     | 0.785235          | 0.625000            |"
            ]
          },
          "metadata": {
            "tags": []
          }
        },
        {
          "output_type": "display_data",
          "data": {
            "text/html": [
              "<pre>| 3         | 10       | 5.000000  | 1.111335     | 0.738255          | 0.500000            |</pre>"
            ],
            "text/plain": [
              "| 3         | 10       | 5.000000  | 1.111335     | 0.738255          | 0.500000            |"
            ]
          },
          "metadata": {
            "tags": []
          }
        },
        {
          "output_type": "display_data",
          "data": {
            "text/html": [
              "<pre>| 4         | 12       | 1.000000  | 1.136207     | 0.765101          | 0.750000            |</pre>"
            ],
            "text/plain": [
              "| 4         | 12       | 1.000000  | 1.136207     | 0.765101          | 0.750000            |"
            ]
          },
          "metadata": {
            "tags": []
          }
        },
        {
          "output_type": "display_data",
          "data": {
            "text/html": [
              "<pre>| 5         | 13       | 1.000000  | 1.157687     | 0.812081          | 0.500000            |</pre>"
            ],
            "text/plain": [
              "| 5         | 13       | 1.000000  | 1.157687     | 0.812081          | 0.500000            |"
            ]
          },
          "metadata": {
            "tags": []
          }
        },
        {
          "output_type": "display_data",
          "data": {
            "text/html": [
              "<pre>| 10        | 18       | 1.000000  | 1.248160     | 0.906040          | 0.375000            |</pre>"
            ],
            "text/plain": [
              "| 10        | 18       | 1.000000  | 1.248160     | 0.906040          | 0.375000            |"
            ]
          },
          "metadata": {
            "tags": []
          }
        },
        {
          "output_type": "display_data",
          "data": {
            "text/html": [
              "<pre>+-----------+----------+-----------+--------------+-------------------+---------------------+</pre>"
            ],
            "text/plain": [
              "+-----------+----------+-----------+--------------+-------------------+---------------------+"
            ]
          },
          "metadata": {
            "tags": []
          }
        },
        {
          "output_type": "display_data",
          "data": {
            "text/html": [
              "<pre>Completed (Iteration limit reached).</pre>"
            ],
            "text/plain": [
              "Completed (Iteration limit reached)."
            ]
          },
          "metadata": {
            "tags": []
          }
        },
        {
          "output_type": "display_data",
          "data": {
            "text/html": [
              "<pre>This model may not be optimal. To improve it, consider increasing `max_iterations`.</pre>"
            ],
            "text/plain": [
              "This model may not be optimal. To improve it, consider increasing `max_iterations`."
            ]
          },
          "metadata": {
            "tags": []
          }
        },
        {
          "output_type": "stream",
          "text": [
            "Performing feature extraction on resized images...\n",
            "Completed 37/37\n",
            "0.7297297297297297\n"
          ],
          "name": "stdout"
        },
        {
          "output_type": "stream",
          "text": [
            "/usr/local/lib/python3.6/dist-packages/coremltools/_deps/__init__.py:118: DeprecationWarning: The 'warn' function is deprecated, use 'warning' instead\n",
            "  % (tensorflow.__version__, TF_MAX_VERSION))\n",
            "WARNING:root:TensorFlow version 1.9.0-rc0 detected. Last version known to be fully compatible is 1.5.0 .\n"
          ],
          "name": "stderr"
        }
      ]
    },
    {
      "metadata": {
        "id": "SM5el2qMpH7K",
        "colab_type": "text"
      },
      "cell_type": "markdown",
      "source": [
        "# Web上の画像をフェッチしてテスト"
      ]
    },
    {
      "metadata": {
        "id": "JLYROfZxYXLD",
        "colab_type": "code",
        "colab": {
          "base_uri": "https://localhost:8080/",
          "height": 323
        },
        "outputId": "88bc0a25-9153-4f0e-ad54-63905ac37a65"
      },
      "cell_type": "code",
      "source": [
        "!rm *.jpg\n",
        "!wget https://images-na.ssl-images-amazon.com/images/I/9178rA%2BuFCL._SL1500_.jpg # きのこの山\n",
        "# !wget https://images-na.ssl-images-amazon.com/images/I/91k0PeRaVmL._SL1500_.jpg # たけのこの里\n",
        "image = tc.image_analysis.load_images('.', recursive=False)\n",
        "model.predict(image)"
      ],
      "execution_count": 27,
      "outputs": [
        {
          "output_type": "stream",
          "text": [
            "--2018-06-21 08:50:53--  https://images-na.ssl-images-amazon.com/images/I/9178rA%2BuFCL._SL1500_.jpg\r\n",
            "Resolving images-na.ssl-images-amazon.com (images-na.ssl-images-amazon.com)... 52.84.4.106\r\n",
            "Connecting to images-na.ssl-images-amazon.com (images-na.ssl-images-amazon.com)|52.84.4.106|:443... connected.\n",
            "HTTP request sent, awaiting response... 200 OK\n",
            "Length: 345471 (337K) [image/jpeg]\n",
            "Saving to: '9178rA+uFCL._SL1500_.jpg'\n",
            "\n",
            "9178rA+uFCL._SL1500 100%[===================>] 337.37K  --.-KB/s    in 0.04s   \n",
            "\n",
            "2018-06-21 08:50:53 (8.97 MB/s) - '9178rA+uFCL._SL1500_.jpg' saved [345471/345471]\n",
            "\n"
          ],
          "name": "stdout"
        },
        {
          "output_type": "display_data",
          "data": {
            "text/html": [
              "<pre>Unsupported image format. Supported formats are JPEG and PNG\t file: ./.rnd</pre>"
            ],
            "text/plain": [
              "Unsupported image format. Supported formats are JPEG and PNG\t file: ./.rnd"
            ]
          },
          "metadata": {
            "tags": []
          }
        },
        {
          "output_type": "display_data",
          "data": {
            "text/html": [
              "<pre>Unsupported image format. Supported formats are JPEG and PNG\t file: ./9178rA+uFCL._SL1500_.jpg.1</pre>"
            ],
            "text/plain": [
              "Unsupported image format. Supported formats are JPEG and PNG\t file: ./9178rA+uFCL._SL1500_.jpg.1"
            ]
          },
          "metadata": {
            "tags": []
          }
        },
        {
          "output_type": "display_data",
          "data": {
            "text/html": [
              "<pre>Unsupported image format. Supported formats are JPEG and PNG\t file: ./9178rA+uFCL._SL1500_.jpg.2</pre>"
            ],
            "text/plain": [
              "Unsupported image format. Supported formats are JPEG and PNG\t file: ./9178rA+uFCL._SL1500_.jpg.2"
            ]
          },
          "metadata": {
            "tags": []
          }
        },
        {
          "output_type": "display_data",
          "data": {
            "text/html": [
              "<pre>Unsupported image format. Supported formats are JPEG and PNG\t file: ./KinokonoyamaTakenokonosatoClassifier.mlmodel</pre>"
            ],
            "text/plain": [
              "Unsupported image format. Supported formats are JPEG and PNG\t file: ./KinokonoyamaTakenokonosatoClassifier.mlmodel"
            ]
          },
          "metadata": {
            "tags": []
          }
        },
        {
          "output_type": "execute_result",
          "data": {
            "text/plain": [
              "dtype: str\n",
              "Rows: 1\n",
              "['kinoko_no_yama']"
            ]
          },
          "metadata": {
            "tags": []
          },
          "execution_count": 27
        }
      ]
    },
    {
      "metadata": {
        "id": "iiFNv55JpaQx",
        "colab_type": "text"
      },
      "cell_type": "markdown",
      "source": [
        "# coremlモデルの書き出し"
      ]
    },
    {
      "metadata": {
        "id": "6A65gcT2YGC0",
        "colab_type": "code",
        "colab": {}
      },
      "cell_type": "code",
      "source": [
        "from google.colab import files\n",
        "model.export_coreml('KinokonoyamaTakenokonosatoClassifier.mlmodel')\n",
        "files.download('KinokonoyamaTakenokonosatoClassifier.mlmodel')"
      ],
      "execution_count": 0,
      "outputs": []
    }
  ]
}